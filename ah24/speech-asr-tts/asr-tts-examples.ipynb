{
 "cells": [
  {
   "cell_type": "markdown",
   "metadata": {},
   "source": [
    "##### TTS -> text to wav file"
   ]
  },
  {
   "cell_type": "code",
   "execution_count": 32,
   "metadata": {},
   "outputs": [
    {
     "name": "stdout",
     "output_type": "stream",
     "text": [
      "Successfully synthesized.\n"
     ]
    }
   ],
   "source": [
    "import requests\n",
    "\n",
    "URL = 'http://147.228.125.108:9999/v4/synth'\n",
    "\n",
    "PARAMS = {\n",
    "    #'engine': 'Oldrich',\n",
    "    'engine': 'Ilona',\n",
    "    'format': 'wav',\n",
    "    'text': 'Čau, tak co? Komu už se chce spát?'\n",
    "}\n",
    "\n",
    "response = requests.get(URL, params=PARAMS)\n",
    "\n",
    "if response.status_code == 200:\n",
    "    with open('test.wav', 'wb') as f:\n",
    "        f.write(response.content)\n",
    "        print(\"Successfully synthesized.\")\n",
    "else:\n",
    "    print(\"Failed to save file. Status code:\", response.status_code)\n"
   ]
  },
  {
   "cell_type": "markdown",
   "metadata": {},
   "source": [
    "##### ASR <- from wav file to text"
   ]
  },
  {
   "cell_type": "code",
   "execution_count": 36,
   "metadata": {},
   "outputs": [
    {
     "data": {
      "text/plain": [
       "['čau', 'tak', 'co', 'komu', 'už', 'se', 'chce', 'spát']"
      ]
     },
     "execution_count": 36,
     "metadata": {},
     "output_type": "execute_result"
    }
   ],
   "source": [
    "import requests\n",
    "\n",
    "#ASR_ROOT = \"https://uwebasr.zcu.cz/api/v1/\"\n",
    "ASR_ROOT = \"https://uwebasr.zcu.cz/api/v2/lindat/\"\n",
    "\n",
    "def recognize(fn, model, words_only=False):\n",
    "    \"\"\"Recognizes the file fn using the UWebASR service\n",
    "\n",
    "    The model must be supplied to identify the recognition model.\n",
    "\n",
    "    If words_only is True, then the function returns array of words,\n",
    "    otherwise it returns array of dictionaries containing more detailed\n",
    "    recognition results.\n",
    "\n",
    "    Example:\n",
    "    recognize(\"test.wav\", \"CLARIN_ASR/CZ\")\n",
    "\n",
    "    UWebASR service is provided by Department of Cybernetics, University of\n",
    "    West Bohemia\n",
    "    \"\"\"\n",
    "    with open(fn, \"rb\") as fr:\n",
    "        r = requests.post(ASR_ROOT+model, data=fr, params={\"format\": \"json\"})\n",
    "        r.raise_for_status()\n",
    "        ret = r.json()\n",
    "    if words_only:\n",
    "        ret = [i[\"word\"] for i in ret]\n",
    "    return ret\n",
    "\n",
    "recognize(\"test.wav\", \"CLARIN_ASR/CZ\", words_only=True)\n",
    "#recognize(\"test.wav\", \"generic/cs/E77685B6-D4F2-4030-9C54-399ED62BBF32\", words_only=True)\n",
    "#recognize(\"test.wav\", \"generic/cs/no-lm/E77685B6-D4F2-4030-9C54-399ED62BBF32\", words_only=True)"
   ]
  }
 ],
 "metadata": {
  "kernelspec": {
   "display_name": "edu",
   "language": "python",
   "name": "python3"
  },
  "language_info": {
   "codemirror_mode": {
    "name": "ipython",
    "version": 3
   },
   "file_extension": ".py",
   "mimetype": "text/x-python",
   "name": "python",
   "nbconvert_exporter": "python",
   "pygments_lexer": "ipython3",
   "version": "3.6.6"
  }
 },
 "nbformat": 4,
 "nbformat_minor": 2
}
