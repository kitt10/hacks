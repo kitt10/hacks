{
 "cells": [
  {
   "cell_type": "markdown",
   "metadata": {},
   "source": [
    "##### TTS -> text to wav file"
   ]
  },
  {
   "cell_type": "code",
   "execution_count": 1,
   "metadata": {},
   "outputs": [
    {
     "name": "stdout",
     "output_type": "stream",
     "text": [
      "File downloaded successfully.\n"
     ]
    }
   ],
   "source": [
    "import requests\n",
    "\n",
    "URL = 'http://147.228.125.108:9999/v4/synth'\n",
    "\n",
    "PARAMS = {\n",
    "    'engine': 'Oldrich',\n",
    "    #'engine': 'Ilona',\n",
    "    'format': 'wav',\n",
    "    'text': 'Čau, jdem kódovat?'\n",
    "}\n",
    "\n",
    "response = requests.get(URL, params=PARAMS)\n",
    "\n",
    "if response.status_code == 200:\n",
    "    with open('test.wav', 'wb') as f:\n",
    "        f.write(response.content)\n",
    "        print(\"Successfully synthesized.\")\n",
    "else:\n",
    "    print(\"Failed to save file. Status code:\", response.status_code)\n"
   ]
  }
 ],
 "metadata": {
  "kernelspec": {
   "display_name": "edu",
   "language": "python",
   "name": "python3"
  },
  "language_info": {
   "codemirror_mode": {
    "name": "ipython",
    "version": 3
   },
   "file_extension": ".py",
   "mimetype": "text/x-python",
   "name": "python",
   "nbconvert_exporter": "python",
   "pygments_lexer": "ipython3",
   "version": "3.6.6"
  }
 },
 "nbformat": 4,
 "nbformat_minor": 2
}
